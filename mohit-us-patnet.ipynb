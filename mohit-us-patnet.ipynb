{
  "cells": [
    {
      "cell_type": "code",
      "execution_count": null,
      "metadata": {
        "id": "Gz3dqX_vO-Av"
      },
      "outputs": [],
      "source": [
        "# IMPORTANT: RUN THIS CELL IN ORDER TO IMPORT YOUR KAGGLE DATA SOURCES,\n",
        "# THEN FEEL FREE TO DELETE THIS CELL.\n",
        "# NOTE: THIS NOTEBOOK ENVIRONMENT DIFFERS FROM KAGGLE'S PYTHON\n",
        "# ENVIRONMENT SO THERE MAY BE MISSING LIBRARIES USED BY YOUR\n",
        "# NOTEBOOK.\n",
        "\n",
        "us_patent_phrase_to_phrase_matching_path = kagglehub.competition_download('us-patent-phrase-to-phrase-matching')\n",
        "\n",
        "print('Data source import complete.')\n"
      ]
    },
    {
      "cell_type": "markdown",
      "metadata": {
        "id": "6PQh-9NVO-Aw"
      },
      "source": []
    },
    {
      "cell_type": "code",
      "execution_count": null,
      "metadata": {
        "execution": {
          "iopub.execute_input": "2022-04-20T18:46:49.775805Z",
          "iopub.status.busy": "2022-04-20T18:46:49.775183Z",
          "iopub.status.idle": "2022-04-20T18:46:49.780768Z",
          "shell.execute_reply": "2022-04-20T18:46:49.780055Z",
          "shell.execute_reply.started": "2022-04-20T18:46:49.775763Z"
        },
        "id": "46fBu4h5O-Ax",
        "trusted": true
      },
      "outputs": [],
      "source": [
        "from pathlib import Path\n",
        "import os\n",
        "\n",
        "iskaggle = os.environ.get('KAGGLE_KERNEL_RUN_TYPE', '')\n",
        "if iskaggle:\n",
        "    !pip install -Uqq fastai\n",
        "else:\n",
        "    import zipfile,kaggle\n",
        "    path = Path('us-patent-phrase-to-phrase-matching')\n",
        "    kaggle.api.competition_download_cli(str(path))\n",
        "    zipfile.ZipFile(f'{path}.zip').extractall(path)"
      ]
    },
    {
      "cell_type": "code",
      "execution_count": null,
      "metadata": {
        "execution": {
          "iopub.execute_input": "2022-04-20T18:46:49.343918Z",
          "iopub.status.busy": "2022-04-20T18:46:49.343214Z",
          "iopub.status.idle": "2022-04-20T18:46:49.772683Z",
          "shell.execute_reply": "2022-04-20T18:46:49.771859Z",
          "shell.execute_reply.started": "2022-04-20T18:46:49.343819Z"
        },
        "id": "cSTOcHK6O-Ay",
        "trusted": true
      },
      "outputs": [],
      "source": [
        "from fastai.imports import *"
      ]
    },
    {
      "cell_type": "markdown",
      "metadata": {
        "heading_collapsed": true,
        "id": "nvQITyeIO-Ay"
      },
      "source": [
        "## Import and EDA"
      ]
    },
    {
      "cell_type": "code",
      "execution_count": null,
      "metadata": {
        "execution": {
          "iopub.execute_input": "2022-04-20T18:46:49.78287Z",
          "iopub.status.busy": "2022-04-20T18:46:49.782611Z",
          "iopub.status.idle": "2022-04-20T18:46:49.796818Z",
          "shell.execute_reply": "2022-04-20T18:46:49.796077Z",
          "shell.execute_reply.started": "2022-04-20T18:46:49.782844Z"
        },
        "hidden": true,
        "id": "SGVhQk1NO-Az",
        "trusted": true
      },
      "outputs": [],
      "source": [
        "if iskaggle: path = Path('../input/us-patent-phrase-to-phrase-matching')\n",
        "path.ls()"
      ]
    },
    {
      "cell_type": "markdown",
      "metadata": {
        "hidden": true,
        "id": "WQn1V0Y4O-Az"
      },
      "source": [
        "Let's look at the training set:"
      ]
    },
    {
      "cell_type": "code",
      "execution_count": null,
      "metadata": {
        "execution": {
          "iopub.execute_input": "2022-04-20T18:46:49.799401Z",
          "iopub.status.busy": "2022-04-20T18:46:49.798961Z",
          "iopub.status.idle": "2022-04-20T18:46:49.905765Z",
          "shell.execute_reply": "2022-04-20T18:46:49.905058Z",
          "shell.execute_reply.started": "2022-04-20T18:46:49.79936Z"
        },
        "hidden": true,
        "id": "7yHwkf2uO-Az",
        "trusted": true
      },
      "outputs": [],
      "source": [
        "df = pd.read_csv(path/'train.csv')\n",
        "df"
      ]
    },
    {
      "cell_type": "markdown",
      "metadata": {
        "hidden": true,
        "id": "HLa2t0tNO-Az"
      },
      "source": [
        "...and the test set:"
      ]
    },
    {
      "cell_type": "code",
      "execution_count": null,
      "metadata": {
        "execution": {
          "iopub.execute_input": "2022-04-20T18:46:49.907528Z",
          "iopub.status.busy": "2022-04-20T18:46:49.907233Z",
          "iopub.status.idle": "2022-04-20T18:46:49.931788Z",
          "shell.execute_reply": "2022-04-20T18:46:49.930927Z",
          "shell.execute_reply.started": "2022-04-20T18:46:49.907493Z"
        },
        "hidden": true,
        "id": "MMi8vUfVO-A0",
        "trusted": true
      },
      "outputs": [],
      "source": [
        "eval_df = pd.read_csv(path/'test.csv')\n",
        "len(eval_df)"
      ]
    },
    {
      "cell_type": "code",
      "execution_count": null,
      "metadata": {
        "execution": {
          "iopub.execute_input": "2022-04-20T18:46:49.936181Z",
          "iopub.status.busy": "2022-04-20T18:46:49.935205Z",
          "iopub.status.idle": "2022-04-20T18:46:49.958464Z",
          "shell.execute_reply": "2022-04-20T18:46:49.957771Z",
          "shell.execute_reply.started": "2022-04-20T18:46:49.936134Z"
        },
        "hidden": true,
        "id": "WDBw9sVWO-A0",
        "trusted": true
      },
      "outputs": [],
      "source": [
        "eval_df.head()"
      ]
    },
    {
      "cell_type": "code",
      "execution_count": null,
      "metadata": {
        "execution": {
          "iopub.execute_input": "2022-04-20T18:46:49.963179Z",
          "iopub.status.busy": "2022-04-20T18:46:49.959717Z",
          "iopub.status.idle": "2022-04-20T18:46:50.007831Z",
          "shell.execute_reply": "2022-04-20T18:46:50.007098Z",
          "shell.execute_reply.started": "2022-04-20T18:46:49.963128Z"
        },
        "hidden": true,
        "id": "Uqf6vH21O-A1",
        "trusted": true
      },
      "outputs": [],
      "source": [
        "df.target.value_counts()"
      ]
    },
    {
      "cell_type": "code",
      "execution_count": null,
      "metadata": {
        "execution": {
          "iopub.execute_input": "2022-04-20T18:46:50.014229Z",
          "iopub.status.busy": "2022-04-20T18:46:50.011877Z",
          "iopub.status.idle": "2022-04-20T18:46:50.036328Z",
          "shell.execute_reply": "2022-04-20T18:46:50.035356Z",
          "shell.execute_reply.started": "2022-04-20T18:46:50.014179Z"
        },
        "hidden": true,
        "id": "MU5EGfCCO-A1",
        "trusted": true
      },
      "outputs": [],
      "source": [
        "df.anchor.value_counts()"
      ]
    },
    {
      "cell_type": "code",
      "execution_count": null,
      "metadata": {
        "execution": {
          "iopub.execute_input": "2022-04-20T18:46:50.03818Z",
          "iopub.status.busy": "2022-04-20T18:46:50.037806Z",
          "iopub.status.idle": "2022-04-20T18:46:50.05077Z",
          "shell.execute_reply": "2022-04-20T18:46:50.049963Z",
          "shell.execute_reply.started": "2022-04-20T18:46:50.038141Z"
        },
        "hidden": true,
        "id": "IkVJLYQTO-A1",
        "trusted": true
      },
      "outputs": [],
      "source": [
        "df.context.value_counts()"
      ]
    },
    {
      "cell_type": "code",
      "execution_count": null,
      "metadata": {
        "execution": {
          "iopub.execute_input": "2022-04-20T18:46:50.054758Z",
          "iopub.status.busy": "2022-04-20T18:46:50.054381Z",
          "iopub.status.idle": "2022-04-20T18:46:50.101873Z",
          "shell.execute_reply": "2022-04-20T18:46:50.100986Z",
          "shell.execute_reply.started": "2022-04-20T18:46:50.054721Z"
        },
        "hidden": true,
        "id": "yPPM5utsO-A1",
        "trusted": true
      },
      "outputs": [],
      "source": [
        "df['section'] = df.context.str[0]\n",
        "df.section.value_counts()"
      ]
    },
    {
      "cell_type": "code",
      "execution_count": null,
      "metadata": {
        "execution": {
          "iopub.execute_input": "2022-04-20T18:46:50.103871Z",
          "iopub.status.busy": "2022-04-20T18:46:50.103594Z",
          "iopub.status.idle": "2022-04-20T18:46:50.401495Z",
          "shell.execute_reply": "2022-04-20T18:46:50.40062Z",
          "shell.execute_reply.started": "2022-04-20T18:46:50.103833Z"
        },
        "hidden": true,
        "id": "KXput4LBO-A1",
        "trusted": true
      },
      "outputs": [],
      "source": [
        "df.score.hist();"
      ]
    },
    {
      "cell_type": "markdown",
      "metadata": {
        "hidden": true,
        "id": "bSfvafSPO-A1"
      },
      "source": [
        "There's a small number that are scored `1.0` - here's a sample:"
      ]
    },
    {
      "cell_type": "code",
      "execution_count": null,
      "metadata": {
        "execution": {
          "iopub.execute_input": "2022-04-20T18:46:50.403302Z",
          "iopub.status.busy": "2022-04-20T18:46:50.403022Z",
          "iopub.status.idle": "2022-04-20T18:46:50.428747Z",
          "shell.execute_reply": "2022-04-20T18:46:50.428058Z",
          "shell.execute_reply.started": "2022-04-20T18:46:50.403266Z"
        },
        "hidden": true,
        "id": "U9E2UDmuO-A1",
        "trusted": true
      },
      "outputs": [],
      "source": [
        "df[df.score==1]"
      ]
    },
    {
      "cell_type": "markdown",
      "metadata": {
        "heading_collapsed": true,
        "id": "Yj1egFLcO-A1"
      },
      "source": [
        "## Training"
      ]
    },
    {
      "cell_type": "code",
      "execution_count": null,
      "metadata": {
        "execution": {
          "iopub.execute_input": "2022-04-20T18:46:50.43071Z",
          "iopub.status.busy": "2022-04-20T18:46:50.430234Z",
          "iopub.status.idle": "2022-04-20T18:46:57.746488Z",
          "shell.execute_reply": "2022-04-20T18:46:57.745751Z",
          "shell.execute_reply.started": "2022-04-20T18:46:50.430672Z"
        },
        "hidden": true,
        "id": "F32wUnOTO-A1",
        "trusted": true
      },
      "outputs": [],
      "source": [
        "from torch.utils.data import DataLoader\n",
        "import warnings,transformers,logging,torch\n",
        "from transformers import TrainingArguments,Trainer\n",
        "from transformers import AutoModelForSequenceClassification,AutoTokenizer"
      ]
    },
    {
      "cell_type": "code",
      "execution_count": null,
      "metadata": {
        "execution": {
          "iopub.execute_input": "2022-04-20T18:46:57.749621Z",
          "iopub.status.busy": "2022-04-20T18:46:57.748956Z",
          "iopub.status.idle": "2022-04-20T18:47:07.03975Z",
          "shell.execute_reply": "2022-04-20T18:47:07.038771Z",
          "shell.execute_reply.started": "2022-04-20T18:46:57.749578Z"
        },
        "hidden": true,
        "id": "nU3oGfHJO-A2",
        "trusted": true
      },
      "outputs": [],
      "source": [
        "if iskaggle:\n",
        "    !pip install -q datasets\n",
        "import datasets\n",
        "from datasets import load_dataset, Dataset, DatasetDict"
      ]
    },
    {
      "cell_type": "code",
      "execution_count": null,
      "metadata": {
        "execution": {
          "iopub.execute_input": "2022-04-20T18:47:07.041896Z",
          "iopub.status.busy": "2022-04-20T18:47:07.041591Z",
          "iopub.status.idle": "2022-04-20T18:47:07.050908Z",
          "shell.execute_reply": "2022-04-20T18:47:07.050014Z",
          "shell.execute_reply.started": "2022-04-20T18:47:07.041859Z"
        },
        "hidden": true,
        "id": "d0GU_ONkO-A2",
        "trusted": true
      },
      "outputs": [],
      "source": [
        "warnings.simplefilter('ignore')\n",
        "logging.disable(logging.WARNING)"
      ]
    },
    {
      "cell_type": "code",
      "execution_count": null,
      "metadata": {
        "execution": {
          "iopub.execute_input": "2022-04-20T18:47:07.053716Z",
          "iopub.status.busy": "2022-04-20T18:47:07.053033Z",
          "iopub.status.idle": "2022-04-20T18:47:07.059372Z",
          "shell.execute_reply": "2022-04-20T18:47:07.058573Z",
          "shell.execute_reply.started": "2022-04-20T18:47:07.053658Z"
        },
        "hidden": true,
        "id": "fAsB0358O-A2",
        "trusted": true
      },
      "outputs": [],
      "source": [
        "model_nm = 'microsoft/deberta-v3-small'"
      ]
    },
    {
      "cell_type": "code",
      "execution_count": null,
      "metadata": {
        "execution": {
          "iopub.execute_input": "2022-04-20T18:47:07.061862Z",
          "iopub.status.busy": "2022-04-20T18:47:07.061198Z",
          "iopub.status.idle": "2022-04-20T18:47:14.62168Z",
          "shell.execute_reply": "2022-04-20T18:47:14.620923Z",
          "shell.execute_reply.started": "2022-04-20T18:47:07.06182Z"
        },
        "hidden": true,
        "id": "8fO8l3LiO-A2",
        "trusted": true
      },
      "outputs": [],
      "source": [
        "tokz = AutoTokenizer.from_pretrained(model_nm)"
      ]
    },
    {
      "cell_type": "code",
      "execution_count": null,
      "metadata": {
        "execution": {
          "iopub.execute_input": "2022-04-20T18:47:14.623336Z",
          "iopub.status.busy": "2022-04-20T18:47:14.623072Z",
          "iopub.status.idle": "2022-04-20T18:47:14.629563Z",
          "shell.execute_reply": "2022-04-20T18:47:14.628819Z",
          "shell.execute_reply.started": "2022-04-20T18:47:14.623301Z"
        },
        "hidden": true,
        "id": "g9C5KVuuO-A2",
        "trusted": true
      },
      "outputs": [],
      "source": [
        "sep = tokz.sep_token\n",
        "sep"
      ]
    },
    {
      "cell_type": "markdown",
      "metadata": {
        "hidden": true,
        "id": "Kj-KNiC3O-A2"
      },
      "source": [
        "Let's now created our combined column:"
      ]
    },
    {
      "cell_type": "code",
      "execution_count": null,
      "metadata": {
        "execution": {
          "iopub.execute_input": "2022-04-20T18:47:14.631656Z",
          "iopub.status.busy": "2022-04-20T18:47:14.630753Z",
          "iopub.status.idle": "2022-04-20T18:47:14.659935Z",
          "shell.execute_reply": "2022-04-20T18:47:14.659164Z",
          "shell.execute_reply.started": "2022-04-20T18:47:14.631622Z"
        },
        "hidden": true,
        "id": "xLW3rgLpO-A2",
        "trusted": true
      },
      "outputs": [],
      "source": [
        "df['inputs'] = df.context + sep + df.anchor + sep + df.target"
      ]
    },
    {
      "cell_type": "code",
      "execution_count": null,
      "metadata": {
        "execution": {
          "iopub.execute_input": "2022-04-20T18:47:14.663898Z",
          "iopub.status.busy": "2022-04-20T18:47:14.663658Z",
          "iopub.status.idle": "2022-04-20T18:47:14.930885Z",
          "shell.execute_reply": "2022-04-20T18:47:14.930142Z",
          "shell.execute_reply.started": "2022-04-20T18:47:14.663871Z"
        },
        "hidden": true,
        "id": "75Syr7CPO-A2",
        "trusted": true
      },
      "outputs": [],
      "source": [
        "ds = Dataset.from_pandas(df).rename_column('score', 'label')\n",
        "eval_ds = Dataset.from_pandas(eval_df)"
      ]
    },
    {
      "cell_type": "code",
      "execution_count": null,
      "metadata": {
        "execution": {
          "iopub.execute_input": "2022-04-20T18:47:14.932356Z",
          "iopub.status.busy": "2022-04-20T18:47:14.932088Z",
          "iopub.status.idle": "2022-04-20T18:47:14.937768Z",
          "shell.execute_reply": "2022-04-20T18:47:14.936893Z",
          "shell.execute_reply.started": "2022-04-20T18:47:14.93232Z"
        },
        "hidden": true,
        "id": "U0G-T-foO-A2",
        "trusted": true
      },
      "outputs": [],
      "source": [
        "def tok_func(x): return tokz(x[\"inputs\"])"
      ]
    },
    {
      "cell_type": "code",
      "execution_count": null,
      "metadata": {
        "execution": {
          "iopub.execute_input": "2022-04-20T18:47:14.94012Z",
          "iopub.status.busy": "2022-04-20T18:47:14.9395Z",
          "iopub.status.idle": "2022-04-20T18:47:14.948855Z",
          "shell.execute_reply": "2022-04-20T18:47:14.947933Z",
          "shell.execute_reply.started": "2022-04-20T18:47:14.940059Z"
        },
        "hidden": true,
        "id": "WkVc7Z98O-A2",
        "trusted": true
      },
      "outputs": [],
      "source": [
        "tok_func(ds[0])"
      ]
    },
    {
      "cell_type": "code",
      "execution_count": null,
      "metadata": {
        "execution": {
          "iopub.execute_input": "2022-04-20T18:47:14.951091Z",
          "iopub.status.busy": "2022-04-20T18:47:14.95066Z",
          "iopub.status.idle": "2022-04-20T18:47:14.958787Z",
          "shell.execute_reply": "2022-04-20T18:47:14.958102Z",
          "shell.execute_reply.started": "2022-04-20T18:47:14.951052Z"
        },
        "hidden": true,
        "id": "BwiXiNIgO-A2",
        "trusted": true
      },
      "outputs": [],
      "source": [
        "tokz.all_special_tokens"
      ]
    },
    {
      "cell_type": "code",
      "execution_count": null,
      "metadata": {
        "execution": {
          "iopub.execute_input": "2022-04-20T18:47:14.960882Z",
          "iopub.status.busy": "2022-04-20T18:47:14.960537Z",
          "iopub.status.idle": "2022-04-20T18:47:21.816439Z",
          "shell.execute_reply": "2022-04-20T18:47:21.815542Z",
          "shell.execute_reply.started": "2022-04-20T18:47:14.960846Z"
        },
        "hidden": true,
        "id": "plmF1m6pO-A6",
        "trusted": true
      },
      "outputs": [],
      "source": [
        "inps = \"anchor\",\"target\",\"context\"\n",
        "tok_ds = ds.map(tok_func, batched=True, remove_columns=inps+('inputs','id','section'))"
      ]
    },
    {
      "cell_type": "code",
      "execution_count": null,
      "metadata": {
        "execution": {
          "iopub.execute_input": "2022-04-20T18:47:21.821993Z",
          "iopub.status.busy": "2022-04-20T18:47:21.821662Z",
          "iopub.status.idle": "2022-04-20T18:47:21.830103Z",
          "shell.execute_reply": "2022-04-20T18:47:21.829105Z",
          "shell.execute_reply.started": "2022-04-20T18:47:21.821952Z"
        },
        "hidden": true,
        "id": "3rbeWjm8O-A7",
        "trusted": true
      },
      "outputs": [],
      "source": [
        "tok_ds[0]"
      ]
    },
    {
      "cell_type": "markdown",
      "metadata": {
        "heading_collapsed": true,
        "id": "2QXIV-eXO-A7"
      },
      "source": [
        "## Creating a validation set"
      ]
    },
    {
      "cell_type": "code",
      "execution_count": null,
      "metadata": {
        "execution": {
          "iopub.execute_input": "2022-04-20T18:47:21.832504Z",
          "iopub.status.busy": "2022-04-20T18:47:21.83193Z",
          "iopub.status.idle": "2022-04-20T18:47:21.843939Z",
          "shell.execute_reply": "2022-04-20T18:47:21.843091Z",
          "shell.execute_reply.started": "2022-04-20T18:47:21.83246Z"
        },
        "hidden": true,
        "id": "95Eggkk3O-A7",
        "trusted": true
      },
      "outputs": [],
      "source": [
        "anchors = df.anchor.unique()\n",
        "np.random.seed(42)\n",
        "np.random.shuffle(anchors)\n",
        "anchors[:5]"
      ]
    },
    {
      "cell_type": "code",
      "execution_count": null,
      "metadata": {
        "execution": {
          "iopub.execute_input": "2022-04-20T18:47:21.845887Z",
          "iopub.status.busy": "2022-04-20T18:47:21.845547Z",
          "iopub.status.idle": "2022-04-20T18:47:21.850296Z",
          "shell.execute_reply": "2022-04-20T18:47:21.849224Z",
          "shell.execute_reply.started": "2022-04-20T18:47:21.845845Z"
        },
        "hidden": true,
        "id": "d_qg6WNzO-A7",
        "trusted": true
      },
      "outputs": [],
      "source": [
        "val_prop = 0.25\n",
        "val_sz = int(len(anchors)*val_prop)\n",
        "val_anchors = anchors[:val_sz]"
      ]
    },
    {
      "cell_type": "code",
      "execution_count": null,
      "metadata": {
        "execution": {
          "iopub.execute_input": "2022-04-20T18:47:21.852407Z",
          "iopub.status.busy": "2022-04-20T18:47:21.852064Z",
          "iopub.status.idle": "2022-04-20T18:47:22.061679Z",
          "shell.execute_reply": "2022-04-20T18:47:22.060884Z",
          "shell.execute_reply.started": "2022-04-20T18:47:21.852371Z"
        },
        "hidden": true,
        "id": "JkHb1EHTO-A7",
        "trusted": true
      },
      "outputs": [],
      "source": [
        "is_val = np.isin(df.anchor, val_anchors)\n",
        "idxs = np.arange(len(df))\n",
        "val_idxs = idxs[ is_val]\n",
        "trn_idxs = idxs[~is_val]\n",
        "len(val_idxs),len(trn_idxs)"
      ]
    },
    {
      "cell_type": "code",
      "execution_count": null,
      "metadata": {
        "execution": {
          "iopub.execute_input": "2022-04-20T18:47:22.06324Z",
          "iopub.status.busy": "2022-04-20T18:47:22.062967Z",
          "iopub.status.idle": "2022-04-20T18:47:22.085388Z",
          "shell.execute_reply": "2022-04-20T18:47:22.084686Z",
          "shell.execute_reply.started": "2022-04-20T18:47:22.063211Z"
        },
        "hidden": true,
        "id": "opj-serMO-A7",
        "trusted": true
      },
      "outputs": [],
      "source": [
        "dds = DatasetDict({\"train\":tok_ds.select(trn_idxs),\n",
        "             \"test\": tok_ds.select(val_idxs)})"
      ]
    },
    {
      "cell_type": "code",
      "execution_count": null,
      "metadata": {
        "execution": {
          "iopub.execute_input": "2022-04-20T18:47:22.086967Z",
          "iopub.status.busy": "2022-04-20T18:47:22.086715Z",
          "iopub.status.idle": "2022-04-20T18:47:22.105427Z",
          "shell.execute_reply": "2022-04-20T18:47:22.104655Z",
          "shell.execute_reply.started": "2022-04-20T18:47:22.086933Z"
        },
        "hidden": true,
        "id": "-bHjXK70O-A7",
        "trusted": true
      },
      "outputs": [],
      "source": [
        "df.iloc[trn_idxs].score.mean(),df.iloc[val_idxs].score.mean()"
      ]
    },
    {
      "cell_type": "markdown",
      "metadata": {
        "heading_collapsed": true,
        "id": "NoOX9PRuO-A8"
      },
      "source": [
        "## Initial model"
      ]
    },
    {
      "cell_type": "markdown",
      "metadata": {
        "hidden": true,
        "id": "dzY8RpjzO-A8"
      },
      "source": [
        "Let's now train our model! We'll need to specify a metric, which is the correlation coefficient provided by numpy (we need to return a dictionary since that's how Transformers knows what label to use):"
      ]
    },
    {
      "cell_type": "code",
      "execution_count": null,
      "metadata": {
        "execution": {
          "iopub.execute_input": "2022-04-20T18:47:22.10845Z",
          "iopub.status.busy": "2022-04-20T18:47:22.107753Z",
          "iopub.status.idle": "2022-04-20T18:47:22.113066Z",
          "shell.execute_reply": "2022-04-20T18:47:22.112354Z",
          "shell.execute_reply.started": "2022-04-20T18:47:22.108412Z"
        },
        "hidden": true,
        "id": "F7_qXqWRO-A8",
        "trusted": true
      },
      "outputs": [],
      "source": [
        "def corr(eval_pred): return {'pearson': np.corrcoef(*eval_pred)[0][1]}"
      ]
    },
    {
      "cell_type": "markdown",
      "metadata": {
        "hidden": true,
        "id": "1Amp5Q1dO-A8"
      },
      "source": [
        "We pick a learning rate and batch size that fits our GPU, and pick a reasonable weight decay and small number of epochs:"
      ]
    },
    {
      "cell_type": "code",
      "execution_count": null,
      "metadata": {
        "execution": {
          "iopub.execute_input": "2022-04-20T18:47:22.114479Z",
          "iopub.status.busy": "2022-04-20T18:47:22.11422Z",
          "iopub.status.idle": "2022-04-20T18:47:22.122924Z",
          "shell.execute_reply": "2022-04-20T18:47:22.122065Z",
          "shell.execute_reply.started": "2022-04-20T18:47:22.114437Z"
        },
        "hidden": true,
        "id": "94LsOohKO-A8",
        "trusted": true
      },
      "outputs": [],
      "source": [
        "lr,bs = 8e-5,128\n",
        "wd,epochs = 0.01,4"
      ]
    },
    {
      "cell_type": "code",
      "execution_count": null,
      "metadata": {
        "execution": {
          "iopub.execute_input": "2022-04-20T18:47:22.124918Z",
          "iopub.status.busy": "2022-04-20T18:47:22.124207Z",
          "iopub.status.idle": "2022-04-20T18:47:22.132907Z",
          "shell.execute_reply": "2022-04-20T18:47:22.131963Z",
          "shell.execute_reply.started": "2022-04-20T18:47:22.12488Z"
        },
        "hidden": true,
        "id": "wSX_U_ZVO-A8",
        "trusted": true
      },
      "outputs": [],
      "source": [
        "def get_trainer(dds):\n",
        "    args = TrainingArguments('outputs', learning_rate=lr, warmup_ratio=0.1, lr_scheduler_type='cosine', fp16=True,\n",
        "        evaluation_strategy=\"epoch\", per_device_train_batch_size=bs, per_device_eval_batch_size=bs*2,\n",
        "        num_train_epochs=epochs, weight_decay=wd, report_to='none')\n",
        "    model = AutoModelForSequenceClassification.from_pretrained(model_nm, num_labels=1)\n",
        "    return Trainer(model, args, train_dataset=dds['train'], eval_dataset=dds['test'],\n",
        "                   tokenizer=tokz, compute_metrics=corr)"
      ]
    },
    {
      "cell_type": "code",
      "execution_count": null,
      "metadata": {
        "execution": {
          "iopub.execute_input": "2022-04-20T18:47:22.135049Z",
          "iopub.status.busy": "2022-04-20T18:47:22.134453Z",
          "iopub.status.idle": "2022-04-20T18:47:22.202953Z",
          "shell.execute_reply": "2022-04-20T18:47:22.202166Z",
          "shell.execute_reply.started": "2022-04-20T18:47:22.134979Z"
        },
        "hidden": true,
        "id": "COMNDZYbO-A8",
        "trusted": true
      },
      "outputs": [],
      "source": [
        "args = TrainingArguments('outputs', learning_rate=lr, warmup_ratio=0.1, lr_scheduler_type='cosine', fp16=True,\n",
        "    evaluation_strategy=\"epoch\", per_device_train_batch_size=bs, per_device_eval_batch_size=bs*2,\n",
        "    num_train_epochs=epochs, weight_decay=wd, report_to='none')"
      ]
    },
    {
      "cell_type": "markdown",
      "metadata": {
        "hidden": true,
        "id": "b46-5lvwO-A9"
      },
      "source": [
        "We can now create our model, and `Trainer`, which is a class which combines the data and model together (just like `Learner` in fastai):"
      ]
    },
    {
      "cell_type": "code",
      "execution_count": null,
      "metadata": {
        "execution": {
          "iopub.execute_input": "2022-04-20T18:47:22.204911Z",
          "iopub.status.busy": "2022-04-20T18:47:22.204458Z",
          "iopub.status.idle": "2022-04-20T18:47:43.410149Z",
          "shell.execute_reply": "2022-04-20T18:47:43.409397Z",
          "shell.execute_reply.started": "2022-04-20T18:47:22.204868Z"
        },
        "hidden": true,
        "id": "0k_F-MoEO-A9",
        "trusted": true
      },
      "outputs": [],
      "source": [
        "model = AutoModelForSequenceClassification.from_pretrained(model_nm, num_labels=1)\n",
        "trainer = Trainer(model, args, train_dataset=dds['train'], eval_dataset=dds['test'],\n",
        "               tokenizer=tokz, compute_metrics=corr)"
      ]
    },
    {
      "cell_type": "markdown",
      "metadata": {
        "hidden": true,
        "id": "DJkvIhIVO-A9"
      },
      "source": [
        "Let's train our model!"
      ]
    },
    {
      "cell_type": "code",
      "execution_count": null,
      "metadata": {
        "execution": {
          "iopub.execute_input": "2022-04-20T18:47:43.411807Z",
          "iopub.status.busy": "2022-04-20T18:47:43.41156Z",
          "iopub.status.idle": "2022-04-20T18:52:07.511673Z",
          "shell.execute_reply": "2022-04-20T18:52:07.510666Z",
          "shell.execute_reply.started": "2022-04-20T18:47:43.411773Z"
        },
        "hidden": true,
        "id": "LniVoGboO-A9",
        "trusted": true
      },
      "outputs": [],
      "source": [
        "trainer.train();"
      ]
    },
    {
      "cell_type": "markdown",
      "metadata": {
        "id": "M1jGplFqO-A9"
      },
      "source": [
        "## Improving the model"
      ]
    },
    {
      "cell_type": "code",
      "execution_count": null,
      "metadata": {
        "execution": {
          "iopub.execute_input": "2022-04-20T18:52:07.513602Z",
          "iopub.status.busy": "2022-04-20T18:52:07.513288Z",
          "iopub.status.idle": "2022-04-20T18:52:07.520202Z",
          "shell.execute_reply": "2022-04-20T18:52:07.519072Z",
          "shell.execute_reply.started": "2022-04-20T18:52:07.51356Z"
        },
        "id": "C_JlJ25OO-A9",
        "trusted": true
      },
      "outputs": [],
      "source": [
        "def get_dds(df):\n",
        "    ds = Dataset.from_pandas(df).rename_column('score', 'label')\n",
        "    tok_ds = ds.map(tok_func, batched=True, remove_columns=inps+('inputs','id','section'))\n",
        "    return DatasetDict({\"train\":tok_ds.select(trn_idxs), \"test\": tok_ds.select(val_idxs)})"
      ]
    },
    {
      "cell_type": "markdown",
      "metadata": {
        "id": "knHVl6pvO-A9"
      },
      "source": [
        "...and also a function to create a `Trainer`:"
      ]
    },
    {
      "cell_type": "code",
      "execution_count": null,
      "metadata": {
        "execution": {
          "iopub.execute_input": "2022-04-20T18:52:07.522323Z",
          "iopub.status.busy": "2022-04-20T18:52:07.521749Z",
          "iopub.status.idle": "2022-04-20T18:52:07.531826Z",
          "shell.execute_reply": "2022-04-20T18:52:07.530942Z",
          "shell.execute_reply.started": "2022-04-20T18:52:07.522276Z"
        },
        "id": "WaXsEal2O-A9",
        "trusted": true
      },
      "outputs": [],
      "source": [
        "def get_model(): return AutoModelForSequenceClassification.from_pretrained(model_nm, num_labels=1)\n",
        "\n",
        "def get_trainer(dds, model=None):\n",
        "    if model is None: model = get_model()\n",
        "    args = TrainingArguments('outputs', learning_rate=lr, warmup_ratio=0.1, lr_scheduler_type='cosine', fp16=True,\n",
        "        evaluation_strategy=\"epoch\", per_device_train_batch_size=bs, per_device_eval_batch_size=bs*2,\n",
        "        num_train_epochs=epochs, weight_decay=wd, report_to='none')\n",
        "    return Trainer(model, args, train_dataset=dds['train'], eval_dataset=dds['test'],\n",
        "                   tokenizer=tokz, compute_metrics=corr)"
      ]
    },
    {
      "cell_type": "code",
      "execution_count": null,
      "metadata": {
        "execution": {
          "iopub.execute_input": "2022-04-20T18:56:47.886388Z",
          "iopub.status.busy": "2022-04-20T18:56:47.886069Z",
          "iopub.status.idle": "2022-04-20T18:56:55.223931Z",
          "shell.execute_reply": "2022-04-20T18:56:55.223168Z",
          "shell.execute_reply.started": "2022-04-20T18:56:47.88635Z"
        },
        "id": "pX31jZxcO-A-",
        "trusted": true
      },
      "outputs": [],
      "source": [
        "sep = \" [s] \"\n",
        "df['inputs'] = df.context + sep + df.anchor + sep + df.target\n",
        "dds = get_dds(df)"
      ]
    },
    {
      "cell_type": "markdown",
      "metadata": {
        "id": "nDfGCveUO-A-"
      },
      "source": [
        "...and create and train a model."
      ]
    },
    {
      "cell_type": "code",
      "execution_count": null,
      "metadata": {
        "execution": {
          "iopub.execute_input": "2022-04-20T18:56:55.22593Z",
          "iopub.status.busy": "2022-04-20T18:56:55.225658Z",
          "iopub.status.idle": "2022-04-20T19:01:39.374114Z",
          "shell.execute_reply": "2022-04-20T19:01:39.372069Z",
          "shell.execute_reply.started": "2022-04-20T18:56:55.225892Z"
        },
        "id": "PH6rxn5TO-A-",
        "trusted": true
      },
      "outputs": [],
      "source": [
        "get_trainer(dds).train()"
      ]
    },
    {
      "cell_type": "markdown",
      "metadata": {
        "id": "WdRlDc5tO-A-"
      },
      "source": [
        "That's looking quite a bit better, so we'll keep that change.\n",
        "\n",
        "Often changing to lowercase is helpful. Let's see if that helps too:"
      ]
    },
    {
      "cell_type": "code",
      "execution_count": null,
      "metadata": {
        "execution": {
          "iopub.execute_input": "2022-04-20T19:01:39.376053Z",
          "iopub.status.busy": "2022-04-20T19:01:39.375599Z",
          "iopub.status.idle": "2022-04-20T19:06:34.190059Z",
          "shell.execute_reply": "2022-04-20T19:06:34.188972Z",
          "shell.execute_reply.started": "2022-04-20T19:01:39.375999Z"
        },
        "id": "FBAyWzpMO-A-",
        "trusted": true
      },
      "outputs": [],
      "source": [
        "df['inputs'] = df.inputs.str.lower()\n",
        "dds = get_dds(df)\n",
        "get_trainer(dds).train()"
      ]
    },
    {
      "cell_type": "markdown",
      "metadata": {
        "id": "TKp9ztkPO-A-"
      },
      "source": [
        "## Special tokens"
      ]
    },
    {
      "cell_type": "code",
      "execution_count": null,
      "metadata": {
        "execution": {
          "iopub.execute_input": "2022-04-20T19:06:34.192422Z",
          "iopub.status.busy": "2022-04-20T19:06:34.192158Z",
          "iopub.status.idle": "2022-04-20T19:06:34.219858Z",
          "shell.execute_reply": "2022-04-20T19:06:34.219043Z",
          "shell.execute_reply.started": "2022-04-20T19:06:34.192388Z"
        },
        "id": "GFqzFUqWO-A-",
        "trusted": true
      },
      "outputs": [],
      "source": [
        "df['sectok'] = '[' + df.section + ']'\n",
        "sectoks = list(df.sectok.unique())\n",
        "tokz.add_special_tokens({'additional_special_tokens': sectoks})"
      ]
    },
    {
      "cell_type": "markdown",
      "metadata": {
        "id": "THhn5uXRO-A-"
      },
      "source": [
        "We concatenate the section token to the start of our inputs:"
      ]
    },
    {
      "cell_type": "code",
      "execution_count": null,
      "metadata": {
        "execution": {
          "iopub.execute_input": "2022-04-20T19:06:34.222324Z",
          "iopub.status.busy": "2022-04-20T19:06:34.222042Z",
          "iopub.status.idle": "2022-04-20T19:06:43.881837Z",
          "shell.execute_reply": "2022-04-20T19:06:43.881036Z",
          "shell.execute_reply.started": "2022-04-20T19:06:34.222287Z"
        },
        "id": "H5x3OrsQO-A-",
        "trusted": true
      },
      "outputs": [],
      "source": [
        "df['inputs'] = df.sectok + sep + df.context + sep + df.anchor.str.lower() + sep + df.target\n",
        "dds = get_dds(df)"
      ]
    },
    {
      "cell_type": "markdown",
      "metadata": {
        "id": "Gz0D8TajO-A-"
      },
      "source": [
        "Since we've added more tokens, we need to resize the embedding matrix in the model:"
      ]
    },
    {
      "cell_type": "code",
      "execution_count": null,
      "metadata": {
        "execution": {
          "iopub.execute_input": "2022-04-20T19:06:43.885741Z",
          "iopub.status.busy": "2022-04-20T19:06:43.884275Z",
          "iopub.status.idle": "2022-04-20T19:06:48.107453Z",
          "shell.execute_reply": "2022-04-20T19:06:48.106683Z",
          "shell.execute_reply.started": "2022-04-20T19:06:43.885693Z"
        },
        "id": "KFRbhE00O-A-",
        "trusted": true
      },
      "outputs": [],
      "source": [
        "model = get_model()\n",
        "model.resize_token_embeddings(len(tokz))"
      ]
    },
    {
      "cell_type": "markdown",
      "metadata": {
        "id": "BtDXtBJCO-A-"
      },
      "source": [
        "Now we're ready to train:"
      ]
    },
    {
      "cell_type": "code",
      "execution_count": null,
      "metadata": {
        "execution": {
          "iopub.execute_input": "2022-04-20T19:06:48.11649Z",
          "iopub.status.busy": "2022-04-20T19:06:48.11603Z",
          "iopub.status.idle": "2022-04-20T19:11:55.412414Z",
          "shell.execute_reply": "2022-04-20T19:11:55.411583Z",
          "shell.execute_reply.started": "2022-04-20T19:06:48.116453Z"
        },
        "id": "zETWus0YO-A-",
        "trusted": true
      },
      "outputs": [],
      "source": [
        "trainer = get_trainer(dds, model=model)\n",
        "trainer.train()"
      ]
    },
    {
      "cell_type": "markdown",
      "metadata": {
        "id": "eVAF19DpO-A_"
      },
      "source": [
        "## Cross-validation"
      ]
    },
    {
      "cell_type": "code",
      "execution_count": null,
      "metadata": {
        "execution": {
          "iopub.execute_input": "2022-04-20T19:11:55.414619Z",
          "iopub.status.busy": "2022-04-20T19:11:55.414368Z",
          "iopub.status.idle": "2022-04-20T19:11:55.419282Z",
          "shell.execute_reply": "2022-04-20T19:11:55.418379Z",
          "shell.execute_reply.started": "2022-04-20T19:11:55.414585Z"
        },
        "id": "xyc5BC08O-A_",
        "trusted": true
      },
      "outputs": [],
      "source": [
        "n_folds = 4"
      ]
    },
    {
      "cell_type": "code",
      "execution_count": null,
      "metadata": {
        "execution": {
          "iopub.execute_input": "2022-04-20T19:11:55.422144Z",
          "iopub.status.busy": "2022-04-20T19:11:55.421034Z",
          "iopub.status.idle": "2022-04-20T19:11:55.446328Z",
          "shell.execute_reply": "2022-04-20T19:11:55.445453Z",
          "shell.execute_reply.started": "2022-04-20T19:11:55.422096Z"
        },
        "id": "SpQA1STyO-A_",
        "trusted": true
      },
      "outputs": [],
      "source": [
        "from sklearn.model_selection import StratifiedGroupKFold\n",
        "cv = StratifiedGroupKFold(n_splits=n_folds)"
      ]
    },
    {
      "cell_type": "code",
      "execution_count": null,
      "metadata": {
        "execution": {
          "iopub.execute_input": "2022-04-20T19:11:55.449756Z",
          "iopub.status.busy": "2022-04-20T19:11:55.448454Z",
          "iopub.status.idle": "2022-04-20T19:11:55.88768Z",
          "shell.execute_reply": "2022-04-20T19:11:55.886743Z",
          "shell.execute_reply.started": "2022-04-20T19:11:55.449715Z"
        },
        "id": "0gaC7A5iO-A_",
        "trusted": true
      },
      "outputs": [],
      "source": [
        "df = df.sample(frac=1, random_state=42)\n",
        "scores = (df.score*100).astype(int)\n",
        "folds = list(cv.split(idxs, scores, df.anchor))\n",
        "folds"
      ]
    },
    {
      "cell_type": "code",
      "execution_count": null,
      "metadata": {
        "execution": {
          "iopub.execute_input": "2022-04-20T19:11:55.889291Z",
          "iopub.status.busy": "2022-04-20T19:11:55.888954Z",
          "iopub.status.idle": "2022-04-20T19:11:55.898445Z",
          "shell.execute_reply": "2022-04-20T19:11:55.897659Z",
          "shell.execute_reply.started": "2022-04-20T19:11:55.889254Z"
        },
        "id": "SwqVmuLJO-A_",
        "trusted": true
      },
      "outputs": [],
      "source": [
        "def get_fold(folds, fold_num):\n",
        "    trn,val = folds[fold_num]\n",
        "    return DatasetDict({\"train\":tok_ds.select(trn), \"test\": tok_ds.select(val)})"
      ]
    },
    {
      "cell_type": "markdown",
      "metadata": {
        "id": "2ZE7x9VlO-A_"
      },
      "source": [
        "Let's try it out:"
      ]
    },
    {
      "cell_type": "code",
      "execution_count": null,
      "metadata": {
        "execution": {
          "iopub.execute_input": "2022-04-20T19:11:55.900887Z",
          "iopub.status.busy": "2022-04-20T19:11:55.900352Z",
          "iopub.status.idle": "2022-04-20T19:11:55.930108Z",
          "shell.execute_reply": "2022-04-20T19:11:55.92947Z",
          "shell.execute_reply.started": "2022-04-20T19:11:55.90085Z"
        },
        "id": "N2_bQ5rPO-A_",
        "trusted": true
      },
      "outputs": [],
      "source": [
        "dds = get_fold(folds, 0)\n",
        "dds"
      ]
    },
    {
      "cell_type": "code",
      "execution_count": null,
      "metadata": {
        "execution": {
          "iopub.execute_input": "2022-04-20T19:11:55.932644Z",
          "iopub.status.busy": "2022-04-20T19:11:55.931778Z",
          "iopub.status.idle": "2022-04-20T19:11:55.93954Z",
          "shell.execute_reply": "2022-04-20T19:11:55.938809Z",
          "shell.execute_reply.started": "2022-04-20T19:11:55.932608Z"
        },
        "id": "0XSQbABRO-A_",
        "trusted": true
      },
      "outputs": [],
      "source": [
        "metrics = [o['eval_pearson'] for o in trainer.state.log_history if 'eval_pearson' in o]\n",
        "metrics[-1]"
      ]
    },
    {
      "cell_type": "code",
      "execution_count": null,
      "metadata": {
        "id": "5qTXFa8EO-A_"
      },
      "outputs": [],
      "source": []
    }
  ],
  "metadata": {
    "colab": {
      "name": "Iterate like a grandmaster!",
      "provenance": []
    },
    "kaggle": {
      "accelerator": "gpu",
      "dataSources": [
        {
          "databundleVersionId": 3279164,
          "sourceId": 33657,
          "sourceType": "competition"
        }
      ],
      "dockerImageVersionId": 30177,
      "isGpuEnabled": true,
      "isInternetEnabled": true,
      "language": "python",
      "sourceType": "notebook"
    },
    "kernelspec": {
      "display_name": "Python 3",
      "language": "python",
      "name": "python3"
    },
    "language_info": {
      "codemirror_mode": {
        "name": "ipython",
        "version": 3
      },
      "file_extension": ".py",
      "mimetype": "text/x-python",
      "name": "python",
      "nbconvert_exporter": "python",
      "pygments_lexer": "ipython3",
      "version": "3.6.4"
    }
  },
  "nbformat": 4,
  "nbformat_minor": 0
}
